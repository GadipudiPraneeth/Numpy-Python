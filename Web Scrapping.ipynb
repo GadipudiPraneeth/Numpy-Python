{
 "cells": [
  {
   "cell_type": "markdown",
   "id": "7f0de327",
   "metadata": {},
   "source": [
    "   ##                                                Web Scrapping \n",
    "\n",
    "Web scraping, also known as web data extraction, is formally known as the process of obtaining and structuring data from web using intelligent automation. It can be used to potentially retrive hundreds, millions, or even a billions of data points from the internet's seemingly endless frontier.\n",
    "\n",
    "There are two parts often associated with scraping.\n",
    "- Web crawling\n",
    "    - A web crawler, generally referred to as a 'spider', is a program that browses the internet to index and search for content by following links and exploring, like a person with too much time on their hands. This is basically what every search engine, like google, does. They send these spider bots out there, to explode, inspect and categorize web pages.\n",
    "- Web scrapers\n",
    "    - A web scraper is the program that actually does the data extraction from a web page and may be specifically designed with a certain web site in mind. Web scrapers vary widely in design and complexity, depending on the project. \n",
    "    \n",
    "Although there are some crawlers that are not related to data extraction they are not a necessary step and are often employed in big projects only.\n",
    "\n",
    "Sometimes scraping may not be the most efficient way of obtaining data. Data collection, or better data exchange is fundamental for the normal functioning of the modern internet economy. That's why there are numerous compaines out there that may provide the data we may interseted in, in a clean and concise way through API's.\n",
    "\n",
    "(rottentomatoes.com/robots.txt)"
   ]
  },
  {
   "cell_type": "markdown",
   "id": "a55f8a96",
   "metadata": {},
   "source": [
    "### APIs\n",
    "To facilitate the data extraction, some data providers maintain APIs\n",
    "API - Application Programming Interface\n",
    "\n",
    "- Basically, an API specifies how software components should interact. You may think of it as a contract between a client and a server. If the client makes a request in a specific format, the server will always respond in a documented format or initiate a defined action.\n",
    "\n",
    "- Examples of web-based APIs include \n",
    "    - Currency exchange rates\n",
    "    - Job boards\n",
    "    - Weather forecast\n",
    "   \n",
    "- All APIs should have some form of documentation. A file or a web page explaining exactly how to use it, its response format and so on.\n",
    "\n"
   ]
  },
  {
   "cell_type": "markdown",
   "id": "b648f9ec",
   "metadata": {},
   "source": [
    "### HTTP\n",
    "\n",
    "HTTP - HyperText Transfer Protocol\n",
    "- We will explore how information is exchanged on the web, by looking at \"HTTP\" requests. Specifies how requests and responses are to be formatted and transmitted.\n",
    "\n",
    "The two popular types of request types are\n",
    "- GET\n",
    "    - It is primarily used to obtain data from a server.\n",
    "    - It remains in the browser history and server logs, can be bookmarked.\n",
    "    - Sometimes, in order to recieve a more specific response, parameters are added directly to the URL.\n",
    "    - Since the URL is visible, this request is not used for sensitive information.\n",
    "    \n",
    "- POST\n",
    "    - Alter state or send confidential information.\n",
    "    - It can carry information in a seperate body, thus making it more secure from prying eyes.\n",
    "    - Parameters are added in a seperate body.\n",
    "\n",
    "To indicate, whether a request was succesful, the response from the server contains a status code. Every status code has a given meaning, 200 for successfull, 404 for error."
   ]
  },
  {
   "cell_type": "markdown",
   "id": "987eab17",
   "metadata": {},
   "source": [
    "## JSON\n",
    "\n",
    "JSON - JavaScript Object Notation.\n",
    "As it was derived from the JavaScript programming language.\n",
    "\n",
    "Having a predictable, standard format in which we exchange information with servers is obviously beneficial for everyone involved. One such standard is the JSON format.\n",
    "\n",
    "The JSON format relies on 3 key concepts:\n",
    "- It should be easy for humans to read and write;\n",
    "- Easy for programs to process and generate, regardless of the programming language;\n",
    "- Return in plain text.\n",
    "\n",
    "It achieves that by using conventions familar to almost all programmers, by building upon 2 structures.\n",
    "- Dictionaries\n",
    "    - A dictionary is a data structure that contains key-value pairs, surronded by curly brackets. The unique value of each key is signified after a colon and the pairs are seperated by commas.\n",
    "- Lists\n",
    "    - A list is a collection of items, It is contained inside square brackets."
   ]
  },
  {
   "cell_type": "markdown",
   "id": "3096b3fe",
   "metadata": {},
   "source": [
    "link - exchangeratesapi.io\n",
    "\n",
    "link for API data - http://api.exchangeratesapi.io/v1/latest?access_key=ccec7a1a517787e63c7893f1c236d952\n",
    "\n",
    "Access key - ccec7a1a517787e63c7893f1c236d952"
   ]
  },
  {
   "cell_type": "markdown",
   "id": "d489378d",
   "metadata": {},
   "source": [
    "#### Pulling data from public APIs - GET request"
   ]
  },
  {
   "cell_type": "code",
   "execution_count": 16,
   "id": "205c5c1d",
   "metadata": {},
   "outputs": [],
   "source": [
    "base_url = 'http://api.exchangeratesapi.io/v1/latest?access_key=ccec7a1a517787e63c7893f1c236d952'\n"
   ]
  },
  {
   "cell_type": "markdown",
   "id": "4c31d6c8",
   "metadata": {},
   "source": [
    "#### Extracting data on currency exchange rates\n",
    "\n",
    "#### Send a GET request\n",
    "\n",
    "This is most easily achieved in python with the help of the 'requests' library. \n",
    "After importing the package we have the access to its 'get' method"
   ]
  },
  {
   "cell_type": "code",
   "execution_count": 2,
   "id": "e3554287",
   "metadata": {},
   "outputs": [],
   "source": [
    "import requests"
   ]
  },
  {
   "cell_type": "markdown",
   "id": "4f58a3e7",
   "metadata": {},
   "source": [
    "The '.get()' method submits a GET request to the indicated URL, and returns the response from the server."
   ]
  },
  {
   "cell_type": "code",
   "execution_count": 3,
   "id": "b1b21874",
   "metadata": {},
   "outputs": [],
   "source": [
    "# We have just made a GET request\n",
    "response = requests.get('http://api.exchangeratesapi.io/v1/latest?access_key=ccec7a1a517787e63c7893f1c236d952')"
   ]
  },
  {
   "cell_type": "markdown",
   "id": "cf9e4345",
   "metadata": {},
   "source": [
    "#### Investigating the response\n",
    "The requests package provides a couple of very useful attributes for this purpose.\n",
    "- We can check if the request went through without problems with the 'OK' attribute. \n",
    "- We can access the status code directly using 'status_code' attribute.\n",
    "- The body of the response can be obtained by writing '.text' attribute. Which returns it as a regular string.\n",
    "- Alternatively, we can use '.content' which returns it in bytes format."
   ]
  },
  {
   "cell_type": "code",
   "execution_count": 4,
   "id": "1c8052c0",
   "metadata": {},
   "outputs": [
    {
     "data": {
      "text/plain": [
       "True"
      ]
     },
     "execution_count": 4,
     "metadata": {},
     "output_type": "execute_result"
    }
   ],
   "source": [
    "response.ok"
   ]
  },
  {
   "cell_type": "code",
   "execution_count": 5,
   "id": "bbfb30b8",
   "metadata": {},
   "outputs": [
    {
     "data": {
      "text/plain": [
       "200"
      ]
     },
     "execution_count": 5,
     "metadata": {},
     "output_type": "execute_result"
    }
   ],
   "source": [
    "response.status_code"
   ]
  },
  {
   "cell_type": "code",
   "execution_count": 6,
   "id": "cafe02f3",
   "metadata": {},
   "outputs": [
    {
     "data": {
      "text/plain": [
       "'{\"success\":true,\"timestamp\":1637645343,\"base\":\"EUR\",\"date\":\"2021-11-23\",\"rates\":{\"AED\":4.127998,\"AFN\":105.372718,\"ALL\":121.384651,\"AMD\":537.854917,\"ANG\":2.032645,\"AOA\":657.473483,\"ARS\":112.839339,\"AUD\":1.556197,\"AWG\":2.023275,\"AZN\":1.91859,\"BAM\":1.956066,\"BBD\":2.277175,\"BDT\":96.760979,\"BGN\":1.954164,\"BHD\":0.423772,\"BIF\":2245.421015,\"BMD\":1.123886,\"BND\":1.535985,\"BOB\":7.776339,\"BRL\":6.279153,\"BSD\":1.127836,\"BTC\":1.9881327e-5,\"BTN\":83.954433,\"BWP\":13.160088,\"BYN\":2.822941,\"BYR\":22028.158732,\"BZD\":2.273374,\"CAD\":1.427773,\"CDF\":2255.086767,\"CHF\":1.047697,\"CLF\":0.033082,\"CLP\":912.83125,\"CNY\":7.177024,\"COP\":4412.094089,\"CRC\":721.877128,\"CUC\":1.123886,\"CUP\":29.78297,\"CVE\":110.27831,\"CZK\":25.455789,\"DJF\":200.784234,\"DKK\":7.436523,\"DOP\":63.845706,\"DZD\":156.55166,\"EGP\":17.663105,\"ERN\":16.858634,\"ETB\":54.290353,\"EUR\":1,\"FJD\":2.374152,\"FKP\":0.837783,\"GBP\":0.83884,\"GEL\":3.51208,\"GGP\":0.837783,\"GHS\":6.910734,\"GIP\":0.837783,\"GMD\":58.781261,\"GNF\":10657.886374,\"GTQ\":8.725353,\"GYD\":235.958479,\"HKD\":8.75771,\"HNL\":27.197283,\"HRK\":7.519809,\"HTG\":111.937511,\"HUF\":370.348477,\"IDR\":16028.632357,\"ILS\":3.470787,\"IMP\":0.837783,\"INR\":83.786746,\"IQD\":1645.488605,\"IRR\":47484.169235,\"ISK\":148.004744,\"JEP\":0.837783,\"JMD\":175.719209,\"JOD\":0.796952,\"JPY\":129.308692,\"KES\":126.102468,\"KGS\":95.292129,\"KHR\":4587.953752,\"KMF\":491.980656,\"KPW\":1011.497478,\"KRW\":1336.05844,\"KWD\":0.34038,\"KYD\":0.939913,\"KZT\":489.249051,\"LAK\":12131.964291,\"LBP\":1705.305825,\"LKR\":228.664699,\"LRD\":160.884017,\"LSL\":17.790858,\"LTL\":3.318542,\"LVL\":0.679827,\"LYD\":5.186626,\"MAD\":10.397155,\"MDL\":19.962309,\"MGA\":4496.602726,\"MKD\":61.622438,\"MMK\":2004.975294,\"MNT\":3212.310881,\"MOP\":9.051292,\"MRO\":401.226984,\"MUR\":48.495732,\"MVR\":17.364305,\"MWK\":920.749132,\"MXN\":23.622053,\"MYR\":4.713017,\"MZN\":71.737954,\"NAD\":17.791608,\"NGN\":461.73709,\"NIO\":39.732796,\"NOK\":10.046318,\"NPR\":134.327213,\"NZD\":1.621368,\"OMR\":0.432685,\"PAB\":1.127836,\"PEN\":4.522346,\"PGK\":4.010684,\"PHP\":56.98606,\"PKR\":197.706163,\"PLN\":4.708346,\"PYG\":7719.131676,\"QAR\":4.092045,\"RON\":4.94993,\"RSD\":117.570088,\"RUB\":84.068333,\"RWF\":1167.420904,\"SAR\":4.216089,\"SBD\":9.045394,\"SCR\":14.378503,\"SDG\":492.262014,\"SEK\":10.111751,\"SGD\":1.534874,\"SHP\":1.548039,\"SLL\":12396.45869,\"SOS\":656.349254,\"SRD\":24.173671,\"STD\":23262.16383,\"SVC\":9.868191,\"SYP\":1412.481005,\"SZL\":17.796948,\"THB\":37.178193,\"TJS\":12.733037,\"TMT\":3.944839,\"TND\":3.194059,\"TOP\":2.541949,\"TRY\":12.822872,\"TTD\":7.655224,\"TWD\":31.244581,\"TZS\":2587.184521,\"UAH\":30.087531,\"UGX\":4026.28596,\"USD\":1.123886,\"UYU\":49.855017,\"UZS\":12130.824153,\"VEF\":240320718330.0949,\"VND\":25484.669047,\"VUV\":125.110511,\"WST\":2.881239,\"XAF\":656.036182,\"XAG\":0.046238,\"XAU\":0.000621,\"XCD\":3.037357,\"XDR\":0.806497,\"XOF\":656.036182,\"XPF\":118.429415,\"YER\":281.25244,\"ZAR\":17.827613,\"ZMK\":10116.318628,\"ZMW\":19.849596,\"ZWL\":361.890721}}'"
      ]
     },
     "execution_count": 6,
     "metadata": {},
     "output_type": "execute_result"
    }
   ],
   "source": [
    "response.text"
   ]
  },
  {
   "cell_type": "code",
   "execution_count": 7,
   "id": "f2985931",
   "metadata": {},
   "outputs": [
    {
     "data": {
      "text/plain": [
       "b'{\"success\":true,\"timestamp\":1637645343,\"base\":\"EUR\",\"date\":\"2021-11-23\",\"rates\":{\"AED\":4.127998,\"AFN\":105.372718,\"ALL\":121.384651,\"AMD\":537.854917,\"ANG\":2.032645,\"AOA\":657.473483,\"ARS\":112.839339,\"AUD\":1.556197,\"AWG\":2.023275,\"AZN\":1.91859,\"BAM\":1.956066,\"BBD\":2.277175,\"BDT\":96.760979,\"BGN\":1.954164,\"BHD\":0.423772,\"BIF\":2245.421015,\"BMD\":1.123886,\"BND\":1.535985,\"BOB\":7.776339,\"BRL\":6.279153,\"BSD\":1.127836,\"BTC\":1.9881327e-5,\"BTN\":83.954433,\"BWP\":13.160088,\"BYN\":2.822941,\"BYR\":22028.158732,\"BZD\":2.273374,\"CAD\":1.427773,\"CDF\":2255.086767,\"CHF\":1.047697,\"CLF\":0.033082,\"CLP\":912.83125,\"CNY\":7.177024,\"COP\":4412.094089,\"CRC\":721.877128,\"CUC\":1.123886,\"CUP\":29.78297,\"CVE\":110.27831,\"CZK\":25.455789,\"DJF\":200.784234,\"DKK\":7.436523,\"DOP\":63.845706,\"DZD\":156.55166,\"EGP\":17.663105,\"ERN\":16.858634,\"ETB\":54.290353,\"EUR\":1,\"FJD\":2.374152,\"FKP\":0.837783,\"GBP\":0.83884,\"GEL\":3.51208,\"GGP\":0.837783,\"GHS\":6.910734,\"GIP\":0.837783,\"GMD\":58.781261,\"GNF\":10657.886374,\"GTQ\":8.725353,\"GYD\":235.958479,\"HKD\":8.75771,\"HNL\":27.197283,\"HRK\":7.519809,\"HTG\":111.937511,\"HUF\":370.348477,\"IDR\":16028.632357,\"ILS\":3.470787,\"IMP\":0.837783,\"INR\":83.786746,\"IQD\":1645.488605,\"IRR\":47484.169235,\"ISK\":148.004744,\"JEP\":0.837783,\"JMD\":175.719209,\"JOD\":0.796952,\"JPY\":129.308692,\"KES\":126.102468,\"KGS\":95.292129,\"KHR\":4587.953752,\"KMF\":491.980656,\"KPW\":1011.497478,\"KRW\":1336.05844,\"KWD\":0.34038,\"KYD\":0.939913,\"KZT\":489.249051,\"LAK\":12131.964291,\"LBP\":1705.305825,\"LKR\":228.664699,\"LRD\":160.884017,\"LSL\":17.790858,\"LTL\":3.318542,\"LVL\":0.679827,\"LYD\":5.186626,\"MAD\":10.397155,\"MDL\":19.962309,\"MGA\":4496.602726,\"MKD\":61.622438,\"MMK\":2004.975294,\"MNT\":3212.310881,\"MOP\":9.051292,\"MRO\":401.226984,\"MUR\":48.495732,\"MVR\":17.364305,\"MWK\":920.749132,\"MXN\":23.622053,\"MYR\":4.713017,\"MZN\":71.737954,\"NAD\":17.791608,\"NGN\":461.73709,\"NIO\":39.732796,\"NOK\":10.046318,\"NPR\":134.327213,\"NZD\":1.621368,\"OMR\":0.432685,\"PAB\":1.127836,\"PEN\":4.522346,\"PGK\":4.010684,\"PHP\":56.98606,\"PKR\":197.706163,\"PLN\":4.708346,\"PYG\":7719.131676,\"QAR\":4.092045,\"RON\":4.94993,\"RSD\":117.570088,\"RUB\":84.068333,\"RWF\":1167.420904,\"SAR\":4.216089,\"SBD\":9.045394,\"SCR\":14.378503,\"SDG\":492.262014,\"SEK\":10.111751,\"SGD\":1.534874,\"SHP\":1.548039,\"SLL\":12396.45869,\"SOS\":656.349254,\"SRD\":24.173671,\"STD\":23262.16383,\"SVC\":9.868191,\"SYP\":1412.481005,\"SZL\":17.796948,\"THB\":37.178193,\"TJS\":12.733037,\"TMT\":3.944839,\"TND\":3.194059,\"TOP\":2.541949,\"TRY\":12.822872,\"TTD\":7.655224,\"TWD\":31.244581,\"TZS\":2587.184521,\"UAH\":30.087531,\"UGX\":4026.28596,\"USD\":1.123886,\"UYU\":49.855017,\"UZS\":12130.824153,\"VEF\":240320718330.0949,\"VND\":25484.669047,\"VUV\":125.110511,\"WST\":2.881239,\"XAF\":656.036182,\"XAG\":0.046238,\"XAU\":0.000621,\"XCD\":3.037357,\"XDR\":0.806497,\"XOF\":656.036182,\"XPF\":118.429415,\"YER\":281.25244,\"ZAR\":17.827613,\"ZMK\":10116.318628,\"ZMW\":19.849596,\"ZWL\":361.890721}}'"
      ]
     },
     "execution_count": 7,
     "metadata": {},
     "output_type": "execute_result"
    }
   ],
   "source": [
    "response.content"
   ]
  },
  {
   "cell_type": "markdown",
   "id": "9f92be11",
   "metadata": {},
   "source": [
    "#### Handling the JSON\n",
    "The 'requests' library provides us with the '.json()' method, which coverts a JSON formatted response to a native python object.\n",
    "- The python 'json' package provides methods for JSON manipulation. Two of the main ones are 'loads' and 'dumps'.\n",
    "    - loads(string) : converts a JSON formatted string to a Python object\n",
    "    - dumps(object) : converts a Python object to a JSON formatted string, with options to make it a prettier sting."
   ]
  },
  {
   "cell_type": "code",
   "execution_count": 8,
   "id": "0bc50986",
   "metadata": {},
   "outputs": [
    {
     "data": {
      "text/plain": [
       "{'success': True,\n",
       " 'timestamp': 1637645343,\n",
       " 'base': 'EUR',\n",
       " 'date': '2021-11-23',\n",
       " 'rates': {'AED': 4.127998,\n",
       "  'AFN': 105.372718,\n",
       "  'ALL': 121.384651,\n",
       "  'AMD': 537.854917,\n",
       "  'ANG': 2.032645,\n",
       "  'AOA': 657.473483,\n",
       "  'ARS': 112.839339,\n",
       "  'AUD': 1.556197,\n",
       "  'AWG': 2.023275,\n",
       "  'AZN': 1.91859,\n",
       "  'BAM': 1.956066,\n",
       "  'BBD': 2.277175,\n",
       "  'BDT': 96.760979,\n",
       "  'BGN': 1.954164,\n",
       "  'BHD': 0.423772,\n",
       "  'BIF': 2245.421015,\n",
       "  'BMD': 1.123886,\n",
       "  'BND': 1.535985,\n",
       "  'BOB': 7.776339,\n",
       "  'BRL': 6.279153,\n",
       "  'BSD': 1.127836,\n",
       "  'BTC': 1.9881327e-05,\n",
       "  'BTN': 83.954433,\n",
       "  'BWP': 13.160088,\n",
       "  'BYN': 2.822941,\n",
       "  'BYR': 22028.158732,\n",
       "  'BZD': 2.273374,\n",
       "  'CAD': 1.427773,\n",
       "  'CDF': 2255.086767,\n",
       "  'CHF': 1.047697,\n",
       "  'CLF': 0.033082,\n",
       "  'CLP': 912.83125,\n",
       "  'CNY': 7.177024,\n",
       "  'COP': 4412.094089,\n",
       "  'CRC': 721.877128,\n",
       "  'CUC': 1.123886,\n",
       "  'CUP': 29.78297,\n",
       "  'CVE': 110.27831,\n",
       "  'CZK': 25.455789,\n",
       "  'DJF': 200.784234,\n",
       "  'DKK': 7.436523,\n",
       "  'DOP': 63.845706,\n",
       "  'DZD': 156.55166,\n",
       "  'EGP': 17.663105,\n",
       "  'ERN': 16.858634,\n",
       "  'ETB': 54.290353,\n",
       "  'EUR': 1,\n",
       "  'FJD': 2.374152,\n",
       "  'FKP': 0.837783,\n",
       "  'GBP': 0.83884,\n",
       "  'GEL': 3.51208,\n",
       "  'GGP': 0.837783,\n",
       "  'GHS': 6.910734,\n",
       "  'GIP': 0.837783,\n",
       "  'GMD': 58.781261,\n",
       "  'GNF': 10657.886374,\n",
       "  'GTQ': 8.725353,\n",
       "  'GYD': 235.958479,\n",
       "  'HKD': 8.75771,\n",
       "  'HNL': 27.197283,\n",
       "  'HRK': 7.519809,\n",
       "  'HTG': 111.937511,\n",
       "  'HUF': 370.348477,\n",
       "  'IDR': 16028.632357,\n",
       "  'ILS': 3.470787,\n",
       "  'IMP': 0.837783,\n",
       "  'INR': 83.786746,\n",
       "  'IQD': 1645.488605,\n",
       "  'IRR': 47484.169235,\n",
       "  'ISK': 148.004744,\n",
       "  'JEP': 0.837783,\n",
       "  'JMD': 175.719209,\n",
       "  'JOD': 0.796952,\n",
       "  'JPY': 129.308692,\n",
       "  'KES': 126.102468,\n",
       "  'KGS': 95.292129,\n",
       "  'KHR': 4587.953752,\n",
       "  'KMF': 491.980656,\n",
       "  'KPW': 1011.497478,\n",
       "  'KRW': 1336.05844,\n",
       "  'KWD': 0.34038,\n",
       "  'KYD': 0.939913,\n",
       "  'KZT': 489.249051,\n",
       "  'LAK': 12131.964291,\n",
       "  'LBP': 1705.305825,\n",
       "  'LKR': 228.664699,\n",
       "  'LRD': 160.884017,\n",
       "  'LSL': 17.790858,\n",
       "  'LTL': 3.318542,\n",
       "  'LVL': 0.679827,\n",
       "  'LYD': 5.186626,\n",
       "  'MAD': 10.397155,\n",
       "  'MDL': 19.962309,\n",
       "  'MGA': 4496.602726,\n",
       "  'MKD': 61.622438,\n",
       "  'MMK': 2004.975294,\n",
       "  'MNT': 3212.310881,\n",
       "  'MOP': 9.051292,\n",
       "  'MRO': 401.226984,\n",
       "  'MUR': 48.495732,\n",
       "  'MVR': 17.364305,\n",
       "  'MWK': 920.749132,\n",
       "  'MXN': 23.622053,\n",
       "  'MYR': 4.713017,\n",
       "  'MZN': 71.737954,\n",
       "  'NAD': 17.791608,\n",
       "  'NGN': 461.73709,\n",
       "  'NIO': 39.732796,\n",
       "  'NOK': 10.046318,\n",
       "  'NPR': 134.327213,\n",
       "  'NZD': 1.621368,\n",
       "  'OMR': 0.432685,\n",
       "  'PAB': 1.127836,\n",
       "  'PEN': 4.522346,\n",
       "  'PGK': 4.010684,\n",
       "  'PHP': 56.98606,\n",
       "  'PKR': 197.706163,\n",
       "  'PLN': 4.708346,\n",
       "  'PYG': 7719.131676,\n",
       "  'QAR': 4.092045,\n",
       "  'RON': 4.94993,\n",
       "  'RSD': 117.570088,\n",
       "  'RUB': 84.068333,\n",
       "  'RWF': 1167.420904,\n",
       "  'SAR': 4.216089,\n",
       "  'SBD': 9.045394,\n",
       "  'SCR': 14.378503,\n",
       "  'SDG': 492.262014,\n",
       "  'SEK': 10.111751,\n",
       "  'SGD': 1.534874,\n",
       "  'SHP': 1.548039,\n",
       "  'SLL': 12396.45869,\n",
       "  'SOS': 656.349254,\n",
       "  'SRD': 24.173671,\n",
       "  'STD': 23262.16383,\n",
       "  'SVC': 9.868191,\n",
       "  'SYP': 1412.481005,\n",
       "  'SZL': 17.796948,\n",
       "  'THB': 37.178193,\n",
       "  'TJS': 12.733037,\n",
       "  'TMT': 3.944839,\n",
       "  'TND': 3.194059,\n",
       "  'TOP': 2.541949,\n",
       "  'TRY': 12.822872,\n",
       "  'TTD': 7.655224,\n",
       "  'TWD': 31.244581,\n",
       "  'TZS': 2587.184521,\n",
       "  'UAH': 30.087531,\n",
       "  'UGX': 4026.28596,\n",
       "  'USD': 1.123886,\n",
       "  'UYU': 49.855017,\n",
       "  'UZS': 12130.824153,\n",
       "  'VEF': 240320718330.0949,\n",
       "  'VND': 25484.669047,\n",
       "  'VUV': 125.110511,\n",
       "  'WST': 2.881239,\n",
       "  'XAF': 656.036182,\n",
       "  'XAG': 0.046238,\n",
       "  'XAU': 0.000621,\n",
       "  'XCD': 3.037357,\n",
       "  'XDR': 0.806497,\n",
       "  'XOF': 656.036182,\n",
       "  'XPF': 118.429415,\n",
       "  'YER': 281.25244,\n",
       "  'ZAR': 17.827613,\n",
       "  'ZMK': 10116.318628,\n",
       "  'ZMW': 19.849596,\n",
       "  'ZWL': 361.890721}}"
      ]
     },
     "execution_count": 8,
     "metadata": {},
     "output_type": "execute_result"
    }
   ],
   "source": [
    "response.json()"
   ]
  },
  {
   "cell_type": "code",
   "execution_count": 9,
   "id": "15cf097c",
   "metadata": {},
   "outputs": [
    {
     "data": {
      "text/plain": [
       "dict"
      ]
     },
     "execution_count": 9,
     "metadata": {},
     "output_type": "execute_result"
    }
   ],
   "source": [
    "type(response.json())"
   ]
  },
  {
   "cell_type": "code",
   "execution_count": 10,
   "id": "345517df",
   "metadata": {},
   "outputs": [],
   "source": [
    "import json"
   ]
  },
  {
   "cell_type": "code",
   "execution_count": 11,
   "id": "614c3617",
   "metadata": {},
   "outputs": [
    {
     "data": {
      "text/plain": [
       "'{\\n    \"success\": true,\\n    \"timestamp\": 1637645343,\\n    \"base\": \"EUR\",\\n    \"date\": \"2021-11-23\",\\n    \"rates\": {\\n        \"AED\": 4.127998,\\n        \"AFN\": 105.372718,\\n        \"ALL\": 121.384651,\\n        \"AMD\": 537.854917,\\n        \"ANG\": 2.032645,\\n        \"AOA\": 657.473483,\\n        \"ARS\": 112.839339,\\n        \"AUD\": 1.556197,\\n        \"AWG\": 2.023275,\\n        \"AZN\": 1.91859,\\n        \"BAM\": 1.956066,\\n        \"BBD\": 2.277175,\\n        \"BDT\": 96.760979,\\n        \"BGN\": 1.954164,\\n        \"BHD\": 0.423772,\\n        \"BIF\": 2245.421015,\\n        \"BMD\": 1.123886,\\n        \"BND\": 1.535985,\\n        \"BOB\": 7.776339,\\n        \"BRL\": 6.279153,\\n        \"BSD\": 1.127836,\\n        \"BTC\": 1.9881327e-05,\\n        \"BTN\": 83.954433,\\n        \"BWP\": 13.160088,\\n        \"BYN\": 2.822941,\\n        \"BYR\": 22028.158732,\\n        \"BZD\": 2.273374,\\n        \"CAD\": 1.427773,\\n        \"CDF\": 2255.086767,\\n        \"CHF\": 1.047697,\\n        \"CLF\": 0.033082,\\n        \"CLP\": 912.83125,\\n        \"CNY\": 7.177024,\\n        \"COP\": 4412.094089,\\n        \"CRC\": 721.877128,\\n        \"CUC\": 1.123886,\\n        \"CUP\": 29.78297,\\n        \"CVE\": 110.27831,\\n        \"CZK\": 25.455789,\\n        \"DJF\": 200.784234,\\n        \"DKK\": 7.436523,\\n        \"DOP\": 63.845706,\\n        \"DZD\": 156.55166,\\n        \"EGP\": 17.663105,\\n        \"ERN\": 16.858634,\\n        \"ETB\": 54.290353,\\n        \"EUR\": 1,\\n        \"FJD\": 2.374152,\\n        \"FKP\": 0.837783,\\n        \"GBP\": 0.83884,\\n        \"GEL\": 3.51208,\\n        \"GGP\": 0.837783,\\n        \"GHS\": 6.910734,\\n        \"GIP\": 0.837783,\\n        \"GMD\": 58.781261,\\n        \"GNF\": 10657.886374,\\n        \"GTQ\": 8.725353,\\n        \"GYD\": 235.958479,\\n        \"HKD\": 8.75771,\\n        \"HNL\": 27.197283,\\n        \"HRK\": 7.519809,\\n        \"HTG\": 111.937511,\\n        \"HUF\": 370.348477,\\n        \"IDR\": 16028.632357,\\n        \"ILS\": 3.470787,\\n        \"IMP\": 0.837783,\\n        \"INR\": 83.786746,\\n        \"IQD\": 1645.488605,\\n        \"IRR\": 47484.169235,\\n        \"ISK\": 148.004744,\\n        \"JEP\": 0.837783,\\n        \"JMD\": 175.719209,\\n        \"JOD\": 0.796952,\\n        \"JPY\": 129.308692,\\n        \"KES\": 126.102468,\\n        \"KGS\": 95.292129,\\n        \"KHR\": 4587.953752,\\n        \"KMF\": 491.980656,\\n        \"KPW\": 1011.497478,\\n        \"KRW\": 1336.05844,\\n        \"KWD\": 0.34038,\\n        \"KYD\": 0.939913,\\n        \"KZT\": 489.249051,\\n        \"LAK\": 12131.964291,\\n        \"LBP\": 1705.305825,\\n        \"LKR\": 228.664699,\\n        \"LRD\": 160.884017,\\n        \"LSL\": 17.790858,\\n        \"LTL\": 3.318542,\\n        \"LVL\": 0.679827,\\n        \"LYD\": 5.186626,\\n        \"MAD\": 10.397155,\\n        \"MDL\": 19.962309,\\n        \"MGA\": 4496.602726,\\n        \"MKD\": 61.622438,\\n        \"MMK\": 2004.975294,\\n        \"MNT\": 3212.310881,\\n        \"MOP\": 9.051292,\\n        \"MRO\": 401.226984,\\n        \"MUR\": 48.495732,\\n        \"MVR\": 17.364305,\\n        \"MWK\": 920.749132,\\n        \"MXN\": 23.622053,\\n        \"MYR\": 4.713017,\\n        \"MZN\": 71.737954,\\n        \"NAD\": 17.791608,\\n        \"NGN\": 461.73709,\\n        \"NIO\": 39.732796,\\n        \"NOK\": 10.046318,\\n        \"NPR\": 134.327213,\\n        \"NZD\": 1.621368,\\n        \"OMR\": 0.432685,\\n        \"PAB\": 1.127836,\\n        \"PEN\": 4.522346,\\n        \"PGK\": 4.010684,\\n        \"PHP\": 56.98606,\\n        \"PKR\": 197.706163,\\n        \"PLN\": 4.708346,\\n        \"PYG\": 7719.131676,\\n        \"QAR\": 4.092045,\\n        \"RON\": 4.94993,\\n        \"RSD\": 117.570088,\\n        \"RUB\": 84.068333,\\n        \"RWF\": 1167.420904,\\n        \"SAR\": 4.216089,\\n        \"SBD\": 9.045394,\\n        \"SCR\": 14.378503,\\n        \"SDG\": 492.262014,\\n        \"SEK\": 10.111751,\\n        \"SGD\": 1.534874,\\n        \"SHP\": 1.548039,\\n        \"SLL\": 12396.45869,\\n        \"SOS\": 656.349254,\\n        \"SRD\": 24.173671,\\n        \"STD\": 23262.16383,\\n        \"SVC\": 9.868191,\\n        \"SYP\": 1412.481005,\\n        \"SZL\": 17.796948,\\n        \"THB\": 37.178193,\\n        \"TJS\": 12.733037,\\n        \"TMT\": 3.944839,\\n        \"TND\": 3.194059,\\n        \"TOP\": 2.541949,\\n        \"TRY\": 12.822872,\\n        \"TTD\": 7.655224,\\n        \"TWD\": 31.244581,\\n        \"TZS\": 2587.184521,\\n        \"UAH\": 30.087531,\\n        \"UGX\": 4026.28596,\\n        \"USD\": 1.123886,\\n        \"UYU\": 49.855017,\\n        \"UZS\": 12130.824153,\\n        \"VEF\": 240320718330.0949,\\n        \"VND\": 25484.669047,\\n        \"VUV\": 125.110511,\\n        \"WST\": 2.881239,\\n        \"XAF\": 656.036182,\\n        \"XAG\": 0.046238,\\n        \"XAU\": 0.000621,\\n        \"XCD\": 3.037357,\\n        \"XDR\": 0.806497,\\n        \"XOF\": 656.036182,\\n        \"XPF\": 118.429415,\\n        \"YER\": 281.25244,\\n        \"ZAR\": 17.827613,\\n        \"ZMK\": 10116.318628,\\n        \"ZMW\": 19.849596,\\n        \"ZWL\": 361.890721\\n    }\\n}'"
      ]
     },
     "execution_count": 11,
     "metadata": {},
     "output_type": "execute_result"
    }
   ],
   "source": [
    "# We can choose the amount of whitespaces with the indent parameter.\n",
    "json.dumps(response.json(),indent=4)"
   ]
  },
  {
   "cell_type": "code",
   "execution_count": 13,
   "id": "3e1af0f4",
   "metadata": {},
   "outputs": [
    {
     "name": "stdout",
     "output_type": "stream",
     "text": [
      "{\n",
      "    \"success\": true,\n",
      "    \"timestamp\": 1637645343,\n",
      "    \"base\": \"EUR\",\n",
      "    \"date\": \"2021-11-23\",\n",
      "    \"rates\": {\n",
      "        \"AED\": 4.127998,\n",
      "        \"AFN\": 105.372718,\n",
      "        \"ALL\": 121.384651,\n",
      "        \"AMD\": 537.854917,\n",
      "        \"ANG\": 2.032645,\n",
      "        \"AOA\": 657.473483,\n",
      "        \"ARS\": 112.839339,\n",
      "        \"AUD\": 1.556197,\n",
      "        \"AWG\": 2.023275,\n",
      "        \"AZN\": 1.91859,\n",
      "        \"BAM\": 1.956066,\n",
      "        \"BBD\": 2.277175,\n",
      "        \"BDT\": 96.760979,\n",
      "        \"BGN\": 1.954164,\n",
      "        \"BHD\": 0.423772,\n",
      "        \"BIF\": 2245.421015,\n",
      "        \"BMD\": 1.123886,\n",
      "        \"BND\": 1.535985,\n",
      "        \"BOB\": 7.776339,\n",
      "        \"BRL\": 6.279153,\n",
      "        \"BSD\": 1.127836,\n",
      "        \"BTC\": 1.9881327e-05,\n",
      "        \"BTN\": 83.954433,\n",
      "        \"BWP\": 13.160088,\n",
      "        \"BYN\": 2.822941,\n",
      "        \"BYR\": 22028.158732,\n",
      "        \"BZD\": 2.273374,\n",
      "        \"CAD\": 1.427773,\n",
      "        \"CDF\": 2255.086767,\n",
      "        \"CHF\": 1.047697,\n",
      "        \"CLF\": 0.033082,\n",
      "        \"CLP\": 912.83125,\n",
      "        \"CNY\": 7.177024,\n",
      "        \"COP\": 4412.094089,\n",
      "        \"CRC\": 721.877128,\n",
      "        \"CUC\": 1.123886,\n",
      "        \"CUP\": 29.78297,\n",
      "        \"CVE\": 110.27831,\n",
      "        \"CZK\": 25.455789,\n",
      "        \"DJF\": 200.784234,\n",
      "        \"DKK\": 7.436523,\n",
      "        \"DOP\": 63.845706,\n",
      "        \"DZD\": 156.55166,\n",
      "        \"EGP\": 17.663105,\n",
      "        \"ERN\": 16.858634,\n",
      "        \"ETB\": 54.290353,\n",
      "        \"EUR\": 1,\n",
      "        \"FJD\": 2.374152,\n",
      "        \"FKP\": 0.837783,\n",
      "        \"GBP\": 0.83884,\n",
      "        \"GEL\": 3.51208,\n",
      "        \"GGP\": 0.837783,\n",
      "        \"GHS\": 6.910734,\n",
      "        \"GIP\": 0.837783,\n",
      "        \"GMD\": 58.781261,\n",
      "        \"GNF\": 10657.886374,\n",
      "        \"GTQ\": 8.725353,\n",
      "        \"GYD\": 235.958479,\n",
      "        \"HKD\": 8.75771,\n",
      "        \"HNL\": 27.197283,\n",
      "        \"HRK\": 7.519809,\n",
      "        \"HTG\": 111.937511,\n",
      "        \"HUF\": 370.348477,\n",
      "        \"IDR\": 16028.632357,\n",
      "        \"ILS\": 3.470787,\n",
      "        \"IMP\": 0.837783,\n",
      "        \"INR\": 83.786746,\n",
      "        \"IQD\": 1645.488605,\n",
      "        \"IRR\": 47484.169235,\n",
      "        \"ISK\": 148.004744,\n",
      "        \"JEP\": 0.837783,\n",
      "        \"JMD\": 175.719209,\n",
      "        \"JOD\": 0.796952,\n",
      "        \"JPY\": 129.308692,\n",
      "        \"KES\": 126.102468,\n",
      "        \"KGS\": 95.292129,\n",
      "        \"KHR\": 4587.953752,\n",
      "        \"KMF\": 491.980656,\n",
      "        \"KPW\": 1011.497478,\n",
      "        \"KRW\": 1336.05844,\n",
      "        \"KWD\": 0.34038,\n",
      "        \"KYD\": 0.939913,\n",
      "        \"KZT\": 489.249051,\n",
      "        \"LAK\": 12131.964291,\n",
      "        \"LBP\": 1705.305825,\n",
      "        \"LKR\": 228.664699,\n",
      "        \"LRD\": 160.884017,\n",
      "        \"LSL\": 17.790858,\n",
      "        \"LTL\": 3.318542,\n",
      "        \"LVL\": 0.679827,\n",
      "        \"LYD\": 5.186626,\n",
      "        \"MAD\": 10.397155,\n",
      "        \"MDL\": 19.962309,\n",
      "        \"MGA\": 4496.602726,\n",
      "        \"MKD\": 61.622438,\n",
      "        \"MMK\": 2004.975294,\n",
      "        \"MNT\": 3212.310881,\n",
      "        \"MOP\": 9.051292,\n",
      "        \"MRO\": 401.226984,\n",
      "        \"MUR\": 48.495732,\n",
      "        \"MVR\": 17.364305,\n",
      "        \"MWK\": 920.749132,\n",
      "        \"MXN\": 23.622053,\n",
      "        \"MYR\": 4.713017,\n",
      "        \"MZN\": 71.737954,\n",
      "        \"NAD\": 17.791608,\n",
      "        \"NGN\": 461.73709,\n",
      "        \"NIO\": 39.732796,\n",
      "        \"NOK\": 10.046318,\n",
      "        \"NPR\": 134.327213,\n",
      "        \"NZD\": 1.621368,\n",
      "        \"OMR\": 0.432685,\n",
      "        \"PAB\": 1.127836,\n",
      "        \"PEN\": 4.522346,\n",
      "        \"PGK\": 4.010684,\n",
      "        \"PHP\": 56.98606,\n",
      "        \"PKR\": 197.706163,\n",
      "        \"PLN\": 4.708346,\n",
      "        \"PYG\": 7719.131676,\n",
      "        \"QAR\": 4.092045,\n",
      "        \"RON\": 4.94993,\n",
      "        \"RSD\": 117.570088,\n",
      "        \"RUB\": 84.068333,\n",
      "        \"RWF\": 1167.420904,\n",
      "        \"SAR\": 4.216089,\n",
      "        \"SBD\": 9.045394,\n",
      "        \"SCR\": 14.378503,\n",
      "        \"SDG\": 492.262014,\n",
      "        \"SEK\": 10.111751,\n",
      "        \"SGD\": 1.534874,\n",
      "        \"SHP\": 1.548039,\n",
      "        \"SLL\": 12396.45869,\n",
      "        \"SOS\": 656.349254,\n",
      "        \"SRD\": 24.173671,\n",
      "        \"STD\": 23262.16383,\n",
      "        \"SVC\": 9.868191,\n",
      "        \"SYP\": 1412.481005,\n",
      "        \"SZL\": 17.796948,\n",
      "        \"THB\": 37.178193,\n",
      "        \"TJS\": 12.733037,\n",
      "        \"TMT\": 3.944839,\n",
      "        \"TND\": 3.194059,\n",
      "        \"TOP\": 2.541949,\n",
      "        \"TRY\": 12.822872,\n",
      "        \"TTD\": 7.655224,\n",
      "        \"TWD\": 31.244581,\n",
      "        \"TZS\": 2587.184521,\n",
      "        \"UAH\": 30.087531,\n",
      "        \"UGX\": 4026.28596,\n",
      "        \"USD\": 1.123886,\n",
      "        \"UYU\": 49.855017,\n",
      "        \"UZS\": 12130.824153,\n",
      "        \"VEF\": 240320718330.0949,\n",
      "        \"VND\": 25484.669047,\n",
      "        \"VUV\": 125.110511,\n",
      "        \"WST\": 2.881239,\n",
      "        \"XAF\": 656.036182,\n",
      "        \"XAG\": 0.046238,\n",
      "        \"XAU\": 0.000621,\n",
      "        \"XCD\": 3.037357,\n",
      "        \"XDR\": 0.806497,\n",
      "        \"XOF\": 656.036182,\n",
      "        \"XPF\": 118.429415,\n",
      "        \"YER\": 281.25244,\n",
      "        \"ZAR\": 17.827613,\n",
      "        \"ZMK\": 10116.318628,\n",
      "        \"ZMW\": 19.849596,\n",
      "        \"ZWL\": 361.890721\n",
      "    }\n",
      "}\n"
     ]
    }
   ],
   "source": [
    "# In order to manifest we need to print the string\n",
    "print(json.dumps(response.json(),indent=4))"
   ]
  },
  {
   "cell_type": "code",
   "execution_count": 14,
   "id": "48fbfcf4",
   "metadata": {},
   "outputs": [
    {
     "data": {
      "text/plain": [
       "dict_keys(['success', 'timestamp', 'base', 'date', 'rates'])"
      ]
     },
     "execution_count": 14,
     "metadata": {},
     "output_type": "execute_result"
    }
   ],
   "source": [
    "# To get the keys from the dictionaries\n",
    "response.json().keys()"
   ]
  },
  {
   "cell_type": "code",
   "execution_count": null,
   "id": "3709c42d",
   "metadata": {},
   "outputs": [],
   "source": []
  }
 ],
 "metadata": {
  "kernelspec": {
   "display_name": "Python 3",
   "language": "python",
   "name": "python3"
  },
  "language_info": {
   "codemirror_mode": {
    "name": "ipython",
    "version": 3
   },
   "file_extension": ".py",
   "mimetype": "text/x-python",
   "name": "python",
   "nbconvert_exporter": "python",
   "pygments_lexer": "ipython3",
   "version": "3.8.8"
  }
 },
 "nbformat": 4,
 "nbformat_minor": 5
}
